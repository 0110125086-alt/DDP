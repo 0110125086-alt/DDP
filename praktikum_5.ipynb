{
  "nbformat": 4,
  "nbformat_minor": 0,
  "metadata": {
    "colab": {
      "provenance": [],
      "authorship_tag": "ABX9TyMmF1roky9sQyOaVqreX+K8",
      "include_colab_link": true
    },
    "kernelspec": {
      "name": "python3",
      "display_name": "Python 3"
    },
    "language_info": {
      "name": "python"
    }
  },
  "cells": [
    {
      "cell_type": "markdown",
      "metadata": {
        "id": "view-in-github",
        "colab_type": "text"
      },
      "source": [
        "<a href=\"https://colab.research.google.com/github/0110125086-alt/DDP/blob/main/praktikum_5.ipynb\" target=\"_parent\"><img src=\"https://colab.research.google.com/assets/colab-badge.svg\" alt=\"Open In Colab\"/></a>"
      ]
    },
    {
      "cell_type": "code",
      "execution_count": 10,
      "metadata": {
        "colab": {
          "base_uri": "https://localhost:8080/"
        },
        "id": "XJQVPBdW1rIX",
        "outputId": "2b6c597b-7689-414d-8dd3-a0693d2aa6ba"
      },
      "outputs": [
        {
          "output_type": "stream",
          "name": "stdout",
          "text": [
            "['Beat Ember', 'motor', 150, 'Hitam', 2]\n",
            "['Beat Ember', 'motor', 150, 'Hitam', 2]\n"
          ]
        }
      ],
      "source": [
        "namakendaraan = \"Beat Ember\"\n",
        "jeniskendaraan =\"motor\"\n",
        "cckendaraan = 150\n",
        "warnakendaraan = \"Hitam\"\n",
        "rodakendaraan = 2\n",
        "\n",
        "data_kendaraan = [\n",
        "     namakendaraan, jeniskendaraan, cckendaraan, warnakendaraan, rodakendaraan\n",
        "]\n",
        "\n",
        "print(data_kendaraan)\n",
        "hargakendaraan =5000\n",
        "tipekendaraan = \"metic\"\n",
        "\n",
        "data_kendaraan.append(hargakendaraan)\n",
        "data_kendaraan.append(tipekendaraan)\n",
        "print(data_Kendaraan)"
      ]
    },
    {
      "cell_type": "code",
      "source": [
        "pilihan = int(input(\"\"\"\n",
        "Silahkan pilihmenu yang diinginkan\n",
        "=================================\n",
        "1. Luas Persegi\n",
        "2. Luas Lingkaran\n",
        "3. Luas Segitiga\n",
        "=================================\n",
        "Kirimkan hanya angka saja,\n",
        "jawaban = \"\"\"))\n",
        "\n",
        "match pilihan:\n",
        "  case 1:\n",
        "   print(\"anda memilih luas persegi\")\n",
        "   sisi = int(input(\"sisi = \"))\n",
        "   luas = sisi * sisi\n",
        "\n",
        "   print(f\"luas persegi dengan sisi {sisi} adalah {luas}\")\n",
        "   #luas persegi\n",
        "  case 2:\n",
        "   #luas lingkaran\n",
        "   #phi * jari-jari**2\n",
        "   print(\"anda memilih luas lingkaran\")\n",
        "   jarijari = int(input(\"jarijari = \")\n",
        "   sisi = 3.14 * jarijari**2\n",
        "\n",
        "   print(f\"luas lingkaran dengan phi {phi} adalah jarijari {jarijari} **2\")\n",
        "  case 3:\n",
        "   #luas segitiga\n",
        "   #(alas * tinggi)/2\n",
        "   print (\"anda memili\")\n",
        "  case _:\n",
        "   print(\"maaf jawaban anda salah\")"
      ],
      "metadata": {
        "colab": {
          "base_uri": "https://localhost:8080/"
        },
        "id": "FMyBU4Yy9Yn-",
        "outputId": "f654d997-165a-4d80-8474-d41a8170f9c8"
      },
      "execution_count": 18,
      "outputs": [
        {
          "output_type": "stream",
          "name": "stdout",
          "text": [
            "\n",
            "Silahkan pilihmenu yang diinginkan \n",
            "=================================\n",
            "1. Luas Persegi \n",
            "2. Luas Lingkaran \n",
            "3. Luas Segitiga \n",
            "=================================\n",
            "Kirimkan hanya angka saja,\n",
            "jawaban = 1\n",
            "anda memilih luas persegi\n",
            "sisi = 30\n",
            "luas persegi dengan sisi 30 adalah 900\n"
          ]
        }
      ]
    }
  ]
}